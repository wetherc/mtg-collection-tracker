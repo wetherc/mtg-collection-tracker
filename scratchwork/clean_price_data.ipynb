{
 "cells": [
  {
   "cell_type": "code",
   "execution_count": 1,
   "id": "bb6c6971-d96e-4b49-9a8b-ff392ab93d02",
   "metadata": {},
   "outputs": [],
   "source": [
    "import json\n",
    "import requests\n",
    "import sqlite3"
   ]
  },
  {
   "cell_type": "code",
   "execution_count": 2,
   "id": "ef012930-263c-452a-8115-c38569f34164",
   "metadata": {},
   "outputs": [],
   "source": [
    "bulk_data_endpoint = 'https://api.scryfall.com/bulk-data'"
   ]
  },
  {
   "cell_type": "code",
   "execution_count": 3,
   "id": "d456fbc2-ccc8-4100-af1a-df8d1926d099",
   "metadata": {},
   "outputs": [],
   "source": [
    "res = json.loads(\n",
    "    requests.get(bulk_data_endpoint).text\n",
    ")"
   ]
  },
  {
   "cell_type": "code",
   "execution_count": 4,
   "id": "35cf3371-d6b0-48f6-b7cc-b88e8095d04c",
   "metadata": {},
   "outputs": [
    {
     "name": "stdout",
     "output_type": "stream",
     "text": [
      "https://data.scryfall.io/default-cards/default-cards-20240401210705.json\n"
     ]
    }
   ],
   "source": [
    "en_card_uri = [\n",
    "    elem for elem in res['data']\n",
    "    if elem['type'] == 'default_cards'\n",
    "][0]['download_uri']\n",
    "\n",
    "print(en_card_uri)"
   ]
  },
  {
   "cell_type": "code",
   "execution_count": 5,
   "id": "e22c33ed-7bfb-4626-aa8a-35e62410ec71",
   "metadata": {},
   "outputs": [],
   "source": [
    "def download_file(url):\n",
    "    # via https://stackoverflow.com/a/16696317\n",
    "    local_filename = url.split('/')[-1]\n",
    "    with requests.get(url, stream=True) as r:\n",
    "        r.raise_for_status()\n",
    "        with open(local_filename, 'wb') as f:\n",
    "            for chunk in r.iter_content(chunk_size=8192): \n",
    "                f.write(chunk)\n",
    "    return local_filename"
   ]
  },
  {
   "cell_type": "code",
   "execution_count": 6,
   "id": "7e18c662-c4fd-46f6-87b1-3e35329a1482",
   "metadata": {},
   "outputs": [],
   "source": [
    "local_card_path = download_file(en_card_uri)"
   ]
  },
  {
   "cell_type": "code",
   "execution_count": 7,
   "id": "7d08c00f-de8a-43b9-84c5-79f9f72cb401",
   "metadata": {},
   "outputs": [],
   "source": [
    "with open(local_card_path, 'r') as infile:\n",
    "    en_cards = json.load(infile)"
   ]
  },
  {
   "cell_type": "code",
   "execution_count": 8,
   "id": "f1c9f0dc-3c9c-446e-925c-e73d48bf06a5",
   "metadata": {},
   "outputs": [],
   "source": [
    "card_attribs = [\n",
    "    'id',\n",
    "    'name',\n",
    "    'scryfall_uri',\n",
    "    'type_line',\n",
    "    'colors',\n",
    "    'color_identity',\n",
    "    'cmc',\n",
    "    'keywords',\n",
    "    'set',\n",
    "    'set_name',\n",
    "    'collector_number',\n",
    "    'prices'\n",
    "]\n",
    "\n",
    "en_cards = [\n",
    "    {k: card.get(k, None) for k in card_attribs}\n",
    "    for card in en_cards\n",
    "]"
   ]
  },
  {
   "cell_type": "code",
   "execution_count": 9,
   "id": "fbe32a57-b298-4a30-8bf7-c22bad400746",
   "metadata": {},
   "outputs": [],
   "source": [
    "con = sqlite3.connect('mtg.db')"
   ]
  },
  {
   "cell_type": "code",
   "execution_count": 10,
   "id": "ac3fa676-e830-49e9-8cfa-6bd0fe4f6c47",
   "metadata": {},
   "outputs": [],
   "source": [
    "cur = con.cursor()"
   ]
  },
  {
   "cell_type": "code",
   "execution_count": 11,
   "id": "57c9068f-88dd-4484-bab5-7e546a6c9d36",
   "metadata": {},
   "outputs": [
    {
     "data": {
      "text/plain": [
       "<sqlite3.Cursor at 0x7fe3257cb810>"
      ]
     },
     "execution_count": 11,
     "metadata": {},
     "output_type": "execute_result"
    }
   ],
   "source": [
    "_create_table = \"\"\"\n",
    "CREATE TABLE IF NOT EXISTS scryfall(\n",
    "  id TEXT PRIMARY KEY NOT NULL,\n",
    "  name TEXT NOT NULL,\n",
    "  scryfall_uri TEXT,\n",
    "  type_line TEXT,\n",
    "  cmc REAL,\n",
    "  set_shortname TEXT NOT NULL,\n",
    "  set_name TEXT,\n",
    "  collector_number TEXT NOT NULL\n",
    ");\n",
    "\"\"\"\n",
    "cur.execute(_create_table)\n",
    "\n",
    "_create_table = \"\"\"\n",
    "CREATE TABLE IF NOT EXISTS scryfall_prices(\n",
    "    card_id TEXT PRIMARY KEY NOT NULL,\n",
    "    usd REAL,\n",
    "    usd_foil REAL,\n",
    "    FOREIGN KEY(card_id) REFERENCES scryfall(id)\n",
    ");\n",
    "\"\"\"\n",
    "cur.execute(_create_table)"
   ]
  },
  {
   "cell_type": "code",
   "execution_count": 12,
   "id": "22e1fb00-e2b0-43d7-bcac-1818b2958f99",
   "metadata": {},
   "outputs": [],
   "source": [
    "_query = \"\"\"\n",
    "    INSERT INTO scryfall(\n",
    "        id, name, scryfall_uri,\n",
    "        type_line, cmc, set_shortname,\n",
    "        set_name, collector_number\n",
    "    ) VALUES(\n",
    "        :id, :name, :scryfall_uri,\n",
    "        :type_line, :cmc, :set,\n",
    "        :set_name, :collector_number\n",
    "    )\n",
    "    ON CONFLICT(id) DO NOTHING;\n",
    "\"\"\"\n",
    "\n",
    "cur.executemany(_query, en_cards)\n",
    "con.commit()"
   ]
  },
  {
   "cell_type": "code",
   "execution_count": 13,
   "id": "9208a6e1-524c-4253-9528-8c5a03b6b5fa",
   "metadata": {},
   "outputs": [
    {
     "data": {
      "text/plain": [
       "<sqlite3.Cursor at 0x7fe3257cb810>"
      ]
     },
     "execution_count": 13,
     "metadata": {},
     "output_type": "execute_result"
    }
   ],
   "source": [
    "_create_index = \"\"\"\n",
    "CREATE INDEX IF NOT EXISTS idx_set_cn ON scryfall(\n",
    "    set_shortname, collector_number\n",
    ");\n",
    "\"\"\"\n",
    "cur.execute(_create_index)"
   ]
  },
  {
   "cell_type": "code",
   "execution_count": 14,
   "id": "ea64a720-e094-481c-ad8f-63196a68c152",
   "metadata": {},
   "outputs": [],
   "source": [
    "prices = [\n",
    "    {\n",
    "        'id': card['id'],\n",
    "        'usd': card['prices']['usd'],\n",
    "        'usd_foil': card['prices']['usd_foil']\n",
    "    } for card in en_cards\n",
    "]"
   ]
  },
  {
   "cell_type": "code",
   "execution_count": 15,
   "id": "14192c2b-39cd-40f8-9aa9-30b82e0ae971",
   "metadata": {},
   "outputs": [],
   "source": [
    "_query = \"\"\"\n",
    "    INSERT INTO scryfall_prices(\n",
    "        card_id, usd, usd_foil\n",
    "    ) VALUES(\n",
    "        :id, :usd, :usd_foil\n",
    "    )\n",
    "    ON CONFLICT(card_id) DO UPDATE set usd=:usd, usd_foil=:usd_foil;\n",
    "\"\"\"\n",
    "\n",
    "cur.executemany(_query, prices)\n",
    "con.commit()"
   ]
  },
  {
   "cell_type": "code",
   "execution_count": 16,
   "id": "7db947a9-499f-455f-8132-7b3d87a45694",
   "metadata": {},
   "outputs": [],
   "source": [
    "res = cur.execute(\"SELECT name, set_shortname, collector_number FROM scryfall s where name = 'Venser, Shaper Savant'\")"
   ]
  },
  {
   "cell_type": "code",
   "execution_count": 17,
   "id": "56470453-5710-4625-9b30-b94411ebdcf5",
   "metadata": {},
   "outputs": [
    {
     "data": {
      "text/plain": [
       "[('Venser, Shaper Savant', 'fut', '46'),\n",
       " ('Venser, Shaper Savant', 'plst', 'TSR-96'),\n",
       " ('Venser, Shaper Savant', '2x2', '435'),\n",
       " ('Venser, Shaper Savant', '2x2', '66'),\n",
       " ('Venser, Shaper Savant', 'mm3', '55'),\n",
       " ('Venser, Shaper Savant', 'v13', '15'),\n",
       " ('Venser, Shaper Savant', 'tsr', '96')]"
      ]
     },
     "execution_count": 17,
     "metadata": {},
     "output_type": "execute_result"
    }
   ],
   "source": [
    "res.fetchall()"
   ]
  },
  {
   "cell_type": "code",
   "execution_count": null,
   "id": "de5df272-074c-4ea5-ba94-b73677e2ec48",
   "metadata": {},
   "outputs": [],
   "source": []
  }
 ],
 "metadata": {
  "kernelspec": {
   "display_name": "Python 3 (ipykernel)",
   "language": "python",
   "name": "python3"
  },
  "language_info": {
   "codemirror_mode": {
    "name": "ipython",
    "version": 3
   },
   "file_extension": ".py",
   "mimetype": "text/x-python",
   "name": "python",
   "nbconvert_exporter": "python",
   "pygments_lexer": "ipython3",
   "version": "3.9.5"
  }
 },
 "nbformat": 4,
 "nbformat_minor": 5
}
