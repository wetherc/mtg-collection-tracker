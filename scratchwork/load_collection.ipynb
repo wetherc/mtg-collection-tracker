{
 "cells": [
  {
   "cell_type": "code",
   "execution_count": null,
   "id": "b9b29bd2-30bb-4e9d-9024-eab806071074",
   "metadata": {},
   "outputs": [],
   "source": [
    "import sqlite3\n",
    "import pandas as pd"
   ]
  },
  {
   "cell_type": "code",
   "execution_count": null,
   "id": "d4ceba3b-18a3-4fe9-95b9-2f9f6775a0f8",
   "metadata": {},
   "outputs": [],
   "source": [
    "cards = pd.read_csv('mtg_cards.csv')"
   ]
  },
  {
   "cell_type": "code",
   "execution_count": null,
   "id": "39e397a5-d5a8-4a19-bf70-df0c5a21cf3f",
   "metadata": {},
   "outputs": [],
   "source": [
    "cards['holofoil'] = cards['holofoil'].fillna(0)\n",
    "cards['number'] = cards['number'].str.upper()\n",
    "cards.head()"
   ]
  },
  {
   "cell_type": "code",
   "execution_count": null,
   "id": "2875b23a-827a-421d-aad5-7a6e98da98f4",
   "metadata": {},
   "outputs": [],
   "source": [
    "con = sqlite3.connect('mtg.db')"
   ]
  },
  {
   "cell_type": "code",
   "execution_count": null,
   "id": "b0925f22-721c-4f45-8a09-8b12837e9ae6",
   "metadata": {},
   "outputs": [],
   "source": [
    "cur = con.cursor()\n",
    "\n",
    "_create_table = \"\"\"\n",
    "CREATE TABLE IF NOT EXISTS card_collection(\n",
    "  id INTEGER PRIMARY KEY AUTOINCREMENT NOT NULL,\n",
    "  set_shortname TEXT NOT NULL,\n",
    "  collector_number TEXT NOT NULL,\n",
    "  holofoil INTEGER NOT NULL\n",
    ");\n",
    "\"\"\"\n",
    "cur.execute(_create_table)\n",
    "\n",
    "_create_table = \"\"\"\n",
    "DELETE FROM card_collection;\n",
    "\"\"\"\n",
    "cur.execute(_create_table)"
   ]
  },
  {
   "cell_type": "code",
   "execution_count": null,
   "id": "dbfdb45f-c221-403e-bbd9-ad6da6c3e622",
   "metadata": {},
   "outputs": [],
   "source": [
    "_query = \"\"\"\n",
    "    INSERT INTO card_collection(\n",
    "        set_shortname, collector_number, holofoil\n",
    "    ) VALUES(\n",
    "        :set, :number, :holofoil\n",
    "    );\n",
    "\"\"\"\n",
    "\n",
    "cur.executemany(_query, cards.to_dict('records'))\n",
    "con.commit()"
   ]
  },
  {
   "cell_type": "code",
   "execution_count": null,
   "id": "67cc5741-226f-4a35-b930-e4865b30946b",
   "metadata": {},
   "outputs": [],
   "source": [
    "_query = \"\"\"\n",
    "    SELECT \n",
    "        s.name,\n",
    "        s.set_shortname,\n",
    "        s.set_name,\n",
    "        s.collector_number,\n",
    "        c.holofoil,\n",
    "        CASE\n",
    "          WHEN c.holofoil = 1\n",
    "          THEN p.usd_foil\n",
    "          ELSE p.usd\n",
    "        END AS price\n",
    "    FROM card_collection c\n",
    "    JOIN scryfall s\n",
    "      ON c.set_shortname = s.set_shortname\n",
    "     AND c.collector_number = s.collector_number\n",
    "    JOIN scryfall_prices p\n",
    "      ON s.id = p.card_id\n",
    "\"\"\"\n",
    "\n",
    "card_prices = pd.read_sql_query(_query, con)"
   ]
  },
  {
   "cell_type": "code",
   "execution_count": null,
   "id": "9e380871-5b58-4f88-bfb8-0d9f0799c064",
   "metadata": {},
   "outputs": [],
   "source": [
    "card_prices.groupby('set_name').agg({'price': 'sum'}).sort_values(by='price', ascending=False)"
   ]
  },
  {
   "cell_type": "code",
   "execution_count": null,
   "id": "92b15dc7-15fe-482b-95cc-fcca4f4b7fe1",
   "metadata": {},
   "outputs": [],
   "source": [
    "card_prices['price'].sum()"
   ]
  }
 ],
 "metadata": {
  "kernelspec": {
   "display_name": "Python 3 (ipykernel)",
   "language": "python",
   "name": "python3"
  },
  "language_info": {
   "codemirror_mode": {
    "name": "ipython",
    "version": 3
   },
   "file_extension": ".py",
   "mimetype": "text/x-python",
   "name": "python",
   "nbconvert_exporter": "python",
   "pygments_lexer": "ipython3",
   "version": "3.9.5"
  }
 },
 "nbformat": 4,
 "nbformat_minor": 5
}
